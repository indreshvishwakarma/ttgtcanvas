{
 "cells": [
  {
   "cell_type": "markdown",
   "id": "premier-updating",
   "metadata": {},
   "source": [
    "# Introduction"
   ]
  },
  {
   "cell_type": "code",
   "execution_count": 1,
   "id": "sophisticated-astrology",
   "metadata": {},
   "outputs": [],
   "source": [
    "from ttgtcanvas import load_world\n",
    "import os"
   ]
  },
  {
   "cell_type": "code",
   "execution_count": 2,
   "id": "wrong-cutting",
   "metadata": {
    "scrolled": false
   },
   "outputs": [
    {
     "data": {
      "application/vnd.jupyter.widget-view+json": {
       "model_id": "4722a7c42eee4833b9856068580864a3",
       "version_major": 2,
       "version_minor": 0
      },
      "text/plain": [
       "Maze()"
      ]
     },
     "metadata": {},
     "output_type": "display_data"
    }
   ],
   "source": [
    "maze =  load_world('./ttgtcanvas/modules/worlds/hurdles2.wld')\n"
   ]
  },
  {
   "cell_type": "code",
   "execution_count": 6,
   "id": "strong-budapest",
   "metadata": {
    "scrolled": true
   },
   "outputs": [],
   "source": [
    "maze.init()\n",
    "bot= maze.bot()\n",
    "bot.set_trace('red')\n",
    "bot.set_pause(0.1)"
   ]
  },
  {
   "cell_type": "code",
   "execution_count": 4,
   "id": "facial-intellectual",
   "metadata": {},
   "outputs": [
    {
     "data": {
      "text/plain": [
       "3"
      ]
     },
     "execution_count": 4,
     "metadata": {},
     "output_type": "execute_result"
    }
   ],
   "source": [
    "bot._dir"
   ]
  },
  {
   "cell_type": "code",
   "execution_count": 54,
   "id": "eleven-lawyer",
   "metadata": {},
   "outputs": [],
   "source": [
    "bot.move(5)"
   ]
  },
  {
   "cell_type": "code",
   "execution_count": 5,
   "id": "appropriate-setup",
   "metadata": {},
   "outputs": [],
   "source": [
    "bot.turn_left()"
   ]
  },
  {
   "cell_type": "code",
   "execution_count": 60,
   "id": "academic-western",
   "metadata": {},
   "outputs": [],
   "source": [
    "bot.move(5)"
   ]
  },
  {
   "cell_type": "code",
   "execution_count": null,
   "id": "different-terrorist",
   "metadata": {},
   "outputs": [],
   "source": []
  }
 ],
 "metadata": {
  "kernelspec": {
   "display_name": "Python 3",
   "language": "python",
   "name": "python3"
  },
  "language_info": {
   "codemirror_mode": {
    "name": "ipython",
    "version": 3
   },
   "file_extension": ".py",
   "mimetype": "text/x-python",
   "name": "python",
   "nbconvert_exporter": "python",
   "pygments_lexer": "ipython3",
   "version": "3.8.8"
  }
 },
 "nbformat": 4,
 "nbformat_minor": 5
}
