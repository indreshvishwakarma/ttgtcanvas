{
 "cells": [
  {
   "cell_type": "markdown",
   "id": "helpful-flush",
   "metadata": {},
   "source": [
    "# Introduction"
   ]
  },
  {
   "cell_type": "code",
   "execution_count": 7,
   "id": "phantom-penguin",
   "metadata": {},
   "outputs": [],
   "source": [
    "import ttgtcanvas\n",
    "import asyncio"
   ]
  },
  {
   "cell_type": "code",
   "execution_count": 8,
   "id": "unknown-closure",
   "metadata": {},
   "outputs": [
    {
     "data": {
      "application/vnd.jupyter.widget-view+json": {
       "model_id": "d1eac25c3ef144dd86ac879dd21832a0",
       "version_major": 2,
       "version_minor": 0
      },
      "text/plain": [
       "Canvas(value=None)"
      ]
     },
     "metadata": {},
     "output_type": "display_data"
    }
   ],
   "source": [
    "w = ttgtcanvas.Canvas()\n",
    "display(w)"
   ]
  },
  {
   "cell_type": "code",
   "execution_count": 9,
   "id": "personal-xerox",
   "metadata": {},
   "outputs": [],
   "source": [
    "x = w.draw_canvas()\n"
   ]
  },
  {
   "cell_type": "code",
   "execution_count": 10,
   "id": "nutritional-airline",
   "metadata": {},
   "outputs": [],
   "source": [
    "x = w.draw_canvas()\n"
   ]
  },
  {
   "cell_type": "code",
   "execution_count": null,
   "id": "married-attempt",
   "metadata": {},
   "outputs": [],
   "source": []
  }
 ],
 "metadata": {
  "kernelspec": {
   "display_name": "Python 3",
   "language": "python",
   "name": "python3"
  },
  "language_info": {
   "codemirror_mode": {
    "name": "ipython",
    "version": 3
   },
   "file_extension": ".py",
   "mimetype": "text/x-python",
   "name": "python",
   "nbconvert_exporter": "python",
   "pygments_lexer": "ipython3",
   "version": "3.8.8"
  }
 },
 "nbformat": 4,
 "nbformat_minor": 5
}
