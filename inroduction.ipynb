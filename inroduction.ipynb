{
 "cells": [
  {
   "cell_type": "markdown",
   "id": "premier-updating",
   "metadata": {},
   "source": [
    "# Introduction"
   ]
  },
  {
   "cell_type": "code",
   "execution_count": 11,
   "id": "sophisticated-astrology",
   "metadata": {},
   "outputs": [],
   "source": [
    "from ttgtcanvas import load_world , Maze\n",
    "import asyncio\n",
    "import os"
   ]
  },
  {
   "cell_type": "code",
   "execution_count": 12,
   "id": "wrong-cutting",
   "metadata": {},
   "outputs": [
    {
     "data": {
      "application/vnd.jupyter.widget-view+json": {
       "model_id": "60b2098b0627411f92418bdfe935f776",
       "version_major": 2,
       "version_minor": 0
      },
      "text/plain": [
       "Maze()"
      ]
     },
     "metadata": {},
     "output_type": "display_data"
    }
   ],
   "source": [
    "maze = load_world('./worlds/hurdles1.wld')\n",
    "maze"
   ]
  },
  {
   "cell_type": "code",
   "execution_count": 13,
   "id": "strong-budapest",
   "metadata": {},
   "outputs": [],
   "source": [
    "maze.create_layer()"
   ]
  },
  {
   "cell_type": "code",
   "execution_count": 16,
   "id": "rocky-current",
   "metadata": {},
   "outputs": [],
   "source": [
    "robot = maze.add_robot('./robot-design.svg')"
   ]
  },
  {
   "cell_type": "code",
   "execution_count": 17,
   "id": "facial-intellectual",
   "metadata": {},
   "outputs": [],
   "source": [
    "for i in range(10):\n",
    "    robot.move()"
   ]
  },
  {
   "cell_type": "code",
   "execution_count": null,
   "id": "amended-geology",
   "metadata": {},
   "outputs": [],
   "source": []
  }
 ],
 "metadata": {
  "kernelspec": {
   "display_name": "Python 3",
   "language": "python",
   "name": "python3"
  },
  "language_info": {
   "codemirror_mode": {
    "name": "ipython",
    "version": 3
   },
   "file_extension": ".py",
   "mimetype": "text/x-python",
   "name": "python",
   "nbconvert_exporter": "python",
   "pygments_lexer": "ipython3",
   "version": "3.8.8"
  }
 },
 "nbformat": 4,
 "nbformat_minor": 5
}
