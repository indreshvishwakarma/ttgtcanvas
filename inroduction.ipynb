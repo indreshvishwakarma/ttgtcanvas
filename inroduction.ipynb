{
 "cells": [
  {
   "cell_type": "markdown",
   "id": "premier-updating",
   "metadata": {},
   "source": [
    "# Introduction"
   ]
  },
  {
   "cell_type": "code",
   "execution_count": 10,
   "id": "sophisticated-astrology",
   "metadata": {},
   "outputs": [],
   "source": [
    "from ttgtcanvas import load_world\n",
    "import asyncio\n",
    "\n",
    "import os"
   ]
  },
  {
   "cell_type": "code",
   "execution_count": 11,
   "id": "wrong-cutting",
   "metadata": {},
   "outputs": [
    {
     "data": {
      "application/vnd.jupyter.widget-view+json": {
       "model_id": "1c0d0c5eeeb34999a6030c2e1401ab08",
       "version_major": 2,
       "version_minor": 0
      },
      "text/plain": [
       "Maze()"
      ]
     },
     "metadata": {},
     "output_type": "display_data"
    },
    {
     "data": {
      "application/vnd.jupyter.widget-view+json": {
       "model_id": "1c0d0c5eeeb34999a6030c2e1401ab08",
       "version_major": 2,
       "version_minor": 0
      },
      "text/plain": [
       "Maze()"
      ]
     },
     "metadata": {},
     "output_type": "display_data"
    }
   ],
   "source": [
    "maze =  load_world('./worlds/hurdles2.wld')\n",
    "maze"
   ]
  },
  {
   "cell_type": "code",
   "execution_count": 12,
   "id": "strong-budapest",
   "metadata": {},
   "outputs": [],
   "source": [
    "bot= maze.bot()"
   ]
  },
  {
   "cell_type": "code",
   "execution_count": 13,
   "id": "facial-intellectual",
   "metadata": {},
   "outputs": [],
   "source": [
    "bot.set_trace('red')\n",
    "\n",
    "def turn_right():\n",
    "    for i in range(3):\n",
    "        bot.turn_left()\n",
    "\n",
    "def jump():\n",
    "    bot.turn_left()\n",
    "    bot.move()\n",
    "    turn_right()\n",
    "    bot.move()\n",
    "    turn_right()\n",
    "    bot.move()\n",
    "    bot.turn_left()\n",
    "\n",
    "while not bot.on_beeper():\n",
    "    if bot.front_is_clear():\n",
    "        bot.move()\n",
    "    else:\n",
    "        jump()\n"
   ]
  },
  {
   "cell_type": "code",
   "execution_count": 5,
   "id": "incredible-collect",
   "metadata": {},
   "outputs": [],
   "source": [
    "maze.remove_trace(0)"
   ]
  },
  {
   "cell_type": "code",
   "execution_count": 17,
   "id": "subject-stomach",
   "metadata": {},
   "outputs": [],
   "source": [
    "bot.pick_beeper()"
   ]
  },
  {
   "cell_type": "code",
   "execution_count": null,
   "id": "narrow-politics",
   "metadata": {},
   "outputs": [],
   "source": []
  }
 ],
 "metadata": {
  "kernelspec": {
   "display_name": "Python 3",
   "language": "python",
   "name": "python3"
  },
  "language_info": {
   "codemirror_mode": {
    "name": "ipython",
    "version": 3
   },
   "file_extension": ".py",
   "mimetype": "text/x-python",
   "name": "python",
   "nbconvert_exporter": "python",
   "pygments_lexer": "ipython3",
   "version": "3.8.8"
  }
 },
 "nbformat": 4,
 "nbformat_minor": 5
}
