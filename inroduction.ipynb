{
 "cells": [
  {
   "cell_type": "markdown",
   "id": "premier-updating",
   "metadata": {},
   "source": [
    "# Introduction"
   ]
  },
  {
   "cell_type": "code",
   "execution_count": 13,
   "id": "sophisticated-astrology",
   "metadata": {},
   "outputs": [],
   "source": [
    "from ttgtcanvas import load_world\n",
    "import os"
   ]
  },
  {
   "cell_type": "code",
   "execution_count": 14,
   "id": "wrong-cutting",
   "metadata": {
    "scrolled": false
   },
   "outputs": [
    {
     "data": {
      "application/vnd.jupyter.widget-view+json": {
       "model_id": "a6a49aa9c0c7478c8d52fd53d95ad314",
       "version_major": 2,
       "version_minor": 0
      },
      "text/plain": [
       "Maze()"
      ]
     },
     "metadata": {},
     "output_type": "display_data"
    }
   ],
   "source": [
    "maze =  load_world('./ttgtcanvas/modules/worlds/hurdles2.wld')"
   ]
  },
  {
   "cell_type": "code",
   "execution_count": 10,
   "id": "strong-budapest",
   "metadata": {
    "scrolled": true
   },
   "outputs": [],
   "source": [
    "maze.init('./robot-yellow.png')\n",
    "bot= maze.bot()\n",
    "bot.set_trace('red')\n",
    "bot.set_pause(0.1)"
   ]
  },
  {
   "cell_type": "code",
   "execution_count": 11,
   "id": "facial-intellectual",
   "metadata": {},
   "outputs": [],
   "source": [
    "bot.turn_left()\n",
    "bot.move()\n",
    "bot.turn_left()\n",
    "bot.turn_left()\n",
    "bot.turn_left()\n",
    "bot.move(6)\n",
    "bot.turn_left()\n",
    "bot.turn_left()\n",
    "bot.turn_left()\n",
    "bot.move()\n",
    "bot.pick_beeper()"
   ]
  },
  {
   "cell_type": "code",
   "execution_count": 16,
   "id": "worth-notification",
   "metadata": {},
   "outputs": [],
   "source": [
    "bot.turn_left()\n",
    "bot.turn_left()\n",
    "bot.move()\n",
    "bot.turn_left()\n",
    "bot.move()\n",
    "bot.turn_left()\n",
    "bot.move()\n"
   ]
  },
  {
   "cell_type": "code",
   "execution_count": 12,
   "id": "eleven-lawyer",
   "metadata": {},
   "outputs": [
    {
     "data": {
      "text/plain": [
       "True"
      ]
     },
     "execution_count": 12,
     "metadata": {},
     "output_type": "execute_result"
    }
   ],
   "source": [
    "maze.check()"
   ]
  },
  {
   "cell_type": "code",
   "execution_count": 21,
   "id": "happy-stationery",
   "metadata": {},
   "outputs": [
    {
     "data": {
      "text/plain": [
       "2"
      ]
     },
     "execution_count": 21,
     "metadata": {},
     "output_type": "execute_result"
    }
   ],
   "source": [
    "bot.bee()"
   ]
  },
  {
   "cell_type": "code",
   "execution_count": 18,
   "id": "thrown-creativity",
   "metadata": {},
   "outputs": [],
   "source": [
    "bot.move()"
   ]
  },
  {
   "cell_type": "code",
   "execution_count": null,
   "id": "discrete-strengthening",
   "metadata": {},
   "outputs": [],
   "source": []
  },
  {
   "cell_type": "code",
   "execution_count": null,
   "id": "specific-horizontal",
   "metadata": {},
   "outputs": [],
   "source": [
    "\n",
    "\n"
   ]
  }
 ],
 "metadata": {
  "kernelspec": {
   "display_name": "Python 3",
   "language": "python",
   "name": "python3"
  },
  "language_info": {
   "codemirror_mode": {
    "name": "ipython",
    "version": 3
   },
   "file_extension": ".py",
   "mimetype": "text/x-python",
   "name": "python",
   "nbconvert_exporter": "python",
   "pygments_lexer": "ipython3",
   "version": "3.8.8"
  }
 },
 "nbformat": 4,
 "nbformat_minor": 5
}
